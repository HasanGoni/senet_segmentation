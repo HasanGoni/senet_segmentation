{
 "cells": [
  {
   "cell_type": "markdown",
   "metadata": {},
   "source": [
    "# core\n",
    "\n",
    "> Fill in a module description here"
   ]
  },
  {
   "cell_type": "code",
   "execution_count": null,
   "metadata": {},
   "outputs": [],
   "source": [
    "#| default_exp core"
   ]
  },
  {
   "cell_type": "code",
   "execution_count": 1,
   "metadata": {},
   "outputs": [],
   "source": [
    "#| hide\n",
    "from nbdev.showdoc import *"
   ]
  },
  {
   "cell_type": "code",
   "execution_count": 2,
   "metadata": {},
   "outputs": [],
   "source": [
    "#| export\n",
    "def foo(): pass"
   ]
  },
  {
   "cell_type": "code",
   "execution_count": 18,
   "metadata": {},
   "outputs": [],
   "source": [
    "from torch.cuda.amp import autocast\n",
    "from torch.nn.parallel import DataParallel\n",
    "import torch\n",
    "from torch import nn \n",
    "from tqdm.auto import tqdm\n",
    "from fastcore.all import *\n",
    "from pathlib import Path\n",
    "import numpy as np\n",
    "import cv2\n",
    "import albumentations as A\n",
    "from albumentations.pytorch import ToTensorV2\n"
   ]
  },
  {
   "cell_type": "code",
   "execution_count": 17,
   "metadata": {},
   "outputs": [],
   "source": [
    "p_aug = 0.05\n",
    "class CFG:\n",
    "\n",
    "    # target\n",
    "    target_class = number_of_classes = 1\n",
    "\n",
    "\n",
    "    # Model\n",
    "    model_name = 'Unet'\n",
    "    backbone = 'se_resnext50_32x4d'\n",
    "\n",
    "    in_channel = 1\n",
    "\n",
    "    ######################\n",
    "        # training CFG #\n",
    "    ######################\n",
    "\n",
    "    img_size = 512\n",
    "    input_size = 512\n",
    "\n",
    "    train_batch_size = 16\n",
    "    valid_batch_size = train_batch_size * 2\n",
    "    epoch = 2\n",
    "    lr = 6e-4\n",
    "    chopping_percentage = 1e-3\n",
    "    ########################\n",
    "        # fold #\n",
    "    ########################\n",
    "    valid_id = 1\n",
    "\n",
    "    ######################\n",
    "        # augmentation #\n",
    "    ###################### \n",
    "\n",
    "    train_aug = A.Compose([\n",
    "        A.Rotate(limit=270, p=0.5),\n",
    "        A.RandomScale(\n",
    "            scale_limit=(0.8,1.25), \n",
    "            interpolation=cv2.INTER_CUBIC,\n",
    "            p=p_aug),\n",
    "        A.RandomCrop(height=img_size, width=img_size, p=p_aug),\n",
    "        ToTensorV2(p=1.0, transpose_mask=True),\n",
    "               ])\n",
    "    valid_aug = A.Compose([ToTensorV2(p=1.0, transpose_mask=True)])\n",
    "\n",
    "\n",
    "\n"
   ]
  },
  {
   "cell_type": "code",
   "execution_count": 19,
   "metadata": {},
   "outputs": [],
   "source": [
    "class CustomModel(nn.Module):\n",
    "    def __init__(self, CFG, weight=None):\n",
    "       super().__init__() \n",
    "       self.model = smp.Unet(\n",
    "            encoder_name=CFG.backbone, \n",
    "            encoder_weights=weight, \n",
    "            in_channels=CFG.in_channel, \n",
    "            classes=CFG.number_of_classes,\n",
    "            activation=None)\n",
    "\n",
    "    def forward(self, x):\n",
    "        out = self.model(x)\n",
    "        return out[:, 0]\n"
   ]
  },
  {
   "cell_type": "code",
   "execution_count": 21,
   "metadata": {},
   "outputs": [],
   "source": [
    "def build_model(weights=None):\n",
    "    model = CustomModel(CFG, weight=weights)\n",
    "    print(f\"model name: {CFG.model_name}\")\n",
    "    print(f\"backbone: {CFG.backbone}\")\n",
    "    return model.cuda()"
   ]
  },
  {
   "cell_type": "code",
   "execution_count": null,
   "metadata": {},
   "outputs": [],
   "source": []
  },
  {
   "cell_type": "code",
   "execution_count": null,
   "metadata": {},
   "outputs": [],
   "source": [
    "#| hide\n",
    "import nbdev; nbdev.nbdev_export()"
   ]
  }
 ],
 "metadata": {
  "kernelspec": {
   "display_name": "python3",
   "language": "python",
   "name": "python3"
  },
  "language_info": {
   "codemirror_mode": {
    "name": "ipython",
    "version": 3
   },
   "file_extension": ".py",
   "mimetype": "text/x-python",
   "name": "python",
   "nbconvert_exporter": "python",
   "pygments_lexer": "ipython3",
   "version": "3.10.13"
  }
 },
 "nbformat": 4,
 "nbformat_minor": 4
}
