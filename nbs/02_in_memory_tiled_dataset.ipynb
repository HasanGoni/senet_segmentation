{
 "cells": [
  {
   "cell_type": "code",
   "execution_count": 2,
   "metadata": {},
   "outputs": [],
   "source": [
    "#| default_exp in_memory_tiling"
   ]
  },
  {
   "cell_type": "code",
   "execution_count": 5,
   "metadata": {},
   "outputs": [],
   "source": [
    "#| export \n",
    "from torch.utils.data import Dataset, DataLoader\n",
    "from tqdm.auto import tqdm\n",
    "import torch\n",
    "from pathlib import Path\n",
    "import numpy as np\n",
    "import pandas as pd\n",
    "from functools import lru_cache "
   ]
  },
  {
   "cell_type": "markdown",
   "metadata": {},
   "source": [
    "Notebook mostly copied from [here](https://www.kaggle.com/code/squidinator/sennet-hoa-in-memory-tiled-dataset-pytorch)"
   ]
  },
  {
   "cell_type": "code",
   "execution_count": 3,
   "metadata": {},
   "outputs": [],
   "source": [
    "def rle_decode(\n",
    "        mask_rle: str,\n",
    "        img_shape:tuple=None,\n",
    "        )->np.ndarray:\n",
    "    'decode mask from run length encoding'\n",
    "\n",
    "    seq = mask_rle.split()\n",
    "    starts = np.array(list(map(int, seq[0::2])))\n",
    "    lengths = np.array(list(map(int, seq[1::2])))\n",
    "    assert len(starts) == len(lengths)\n",
    "    ends = starts + lengths\n",
    "    img = np.zeros((np.product(img_shape),), dtype=np.uint8)\n",
    "    for begin, end in zip(starts, ends):\n",
    "        img[begin:end] = 1\n",
    "    # https://stackoverflow.com/a/46574906/4521646\n",
    "    img.shape = img_shape\n",
    "    return img"
   ]
  },
  {
   "cell_type": "code",
   "execution_count": 6,
   "metadata": {},
   "outputs": [],
   "source": [
    "@lru_cache(maxsize=64)\n",
    "def ropen(path:Path):\n",
    "    return rasterio.open(path)"
   ]
  },
  {
   "cell_type": "code",
   "execution_count": null,
   "metadata": {},
   "outputs": [],
   "source": []
  }
 ],
 "metadata": {
  "kernelspec": {
   "display_name": "yolo_v8",
   "language": "python",
   "name": "python3"
  },
  "language_info": {
   "codemirror_mode": {
    "name": "ipython",
    "version": 3
   },
   "file_extension": ".py",
   "mimetype": "text/x-python",
   "name": "python",
   "nbconvert_exporter": "python",
   "pygments_lexer": "ipython3",
   "version": "3.10.13"
  }
 },
 "nbformat": 4,
 "nbformat_minor": 2
}
